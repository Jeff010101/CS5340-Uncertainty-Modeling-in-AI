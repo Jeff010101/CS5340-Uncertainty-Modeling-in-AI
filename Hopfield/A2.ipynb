{
 "cells": [
  {
   "cell_type": "code",
   "execution_count": 47,
   "metadata": {},
   "outputs": [],
   "source": [
    "#import numpy as np\n",
    "import glob\n",
    "from PIL import Image, ImageOps\n",
    "import autograd.numpy as np\n",
    "import matplotlib.pyplot as plt\n",
    "import numpy as np\n",
    "from IPython.display import display"
   ]
  },
  {
   "cell_type": "code",
   "execution_count": 48,
   "metadata": {},
   "outputs": [],
   "source": [
    "def load_image(fname):\n",
    "    img = Image.open(fname).resize((32, 32))\n",
    "    img_gray = img.convert('L')\n",
    "    img_eq = ImageOps.autocontrast(img_gray)\n",
    "    img_eq = np.array(img_eq.getdata()).reshape((img_eq.size[1], -1))\n",
    "    return img_eq"
   ]
  },
  {
   "cell_type": "code",
   "execution_count": 49,
   "metadata": {},
   "outputs": [],
   "source": [
    "def binarize_image(img_eq):\n",
    "    img_bin = np.copy(img_eq)\n",
    "    img_bin[img_bin < 128] = -1\n",
    "    img_bin[img_bin >= 128] = 1\n",
    "    return img_bin"
   ]
  },
  {
   "cell_type": "code",
   "execution_count": 50,
   "metadata": {},
   "outputs": [],
   "source": [
    "def add_corruption(img):\n",
    "    img = img.reshape((32, 32))\n",
    "    t = np.random.choice(3)\n",
    "    if t == 0:\n",
    "        i = np.random.randint(32)\n",
    "        img[i:(i + 8)] = -1\n",
    "    elif t == 1:\n",
    "        i = np.random.randint(32)\n",
    "        img[:, i:(i + 8)] = -1\n",
    "    else:\n",
    "        mask = np.sum([np.diag(-np.ones(32 - np.abs(i)), i)\n",
    "                       for i in np.arange(-4, 5)], 0).astype(np.int)\n",
    "        img[mask == -1] = -1\n",
    "    return img.ravel()"
   ]
  },
  {
   "cell_type": "code",
   "execution_count": 51,
   "metadata": {},
   "outputs": [],
   "source": [
    "def recover(cimgs, W, b):\n",
    "    img_size = np.prod(cimgs[0].shape)\n",
    "    ######################################################################\n",
    "    ######################################################################\n",
    "    rimgs = []\n",
    "    # Complete this function\n",
    "    # You are allowed to modify anything between these lines\n",
    "    # Helper functions are allowed\n",
    "    #######################################################################\n",
    "    #######################################################################\n",
    "    rimgs = cimgs.copy()\n",
    "    num_iter = 20\n",
    "    for i in range(num_iter):\n",
    "        for j in range(len(rimgs)):\n",
    "            rimgs[j] = ((np.sign(1/(1+np.exp(-(Wh.dot(rimgs[j])+bh)))-0.5))).astype(int)\n",
    "    rimgs = rimgs.reshape((len(rimgs),32,32))\n",
    "    return rimgs"
   ]
  },
  {
   "cell_type": "code",
   "execution_count": 52,
   "metadata": {},
   "outputs": [],
   "source": [
    "def learn_hebbian(imgs):\n",
    "    img_size = np.prod(imgs[0].shape)\n",
    "    ######################################################################\n",
    "    ######################################################################\n",
    "    weights = np.zeros((img_size, img_size))\n",
    "    bias = np.zeros(img_size)\n",
    "    # Complete this function\n",
    "    # You are allowed to modify anything between these lines\n",
    "    # Helper functions are allowed\n",
    "    \n",
    "    #flatten image\n",
    "    imgs_f = np.reshape(imgs,(len(imgs),img_size))\n",
    "    \n",
    "    for img in imgs_f:\n",
    "        outer = np.outer(img,img)\n",
    "        weights += outer\n",
    "    diagW = np.diag(np.diag(weights))\n",
    "    weights = weights - diagW\n",
    "    weights /= len(imgs)\n",
    "    \n",
    "    \n",
    "    #######################################################################\n",
    "    #######################################################################\n",
    "    return weights, bias"
   ]
  },
  {
   "cell_type": "code",
   "execution_count": 81,
   "metadata": {},
   "outputs": [],
   "source": [
    "#Autograd\n",
    "import autograd.numpy as np\n",
    "from autograd import grad, jacobian, hessian\n",
    "from autograd.scipy.stats import norm\n",
    "from scipy.optimize import minimize\n",
    "\n",
    "def learn_maxpl(imgs):\n",
    "    \n",
    "    img_size = np.prod(imgs[0].shape)\n",
    "    ######################################################################\n",
    "    ######################################################################\n",
    "    weights = np.zeros((img_size, img_size))\n",
    "    bias = np.zeros(img_size)\n",
    "    # Complete this function\n",
    "    # You are allowed to modify anything between these lines\n",
    "    # Helper functions are allowed\n",
    "    \n",
    "    # Define PseudoLikelihood function\n",
    "    def log_PL(teta):\n",
    "        SUM=0\n",
    "        imgs_f = imgs.reshape((len(imgs),img_size))\n",
    "        for i in imgs_f:\n",
    "            for j in range(len(i)):\n",
    "                SUM=SUM+np.log(1/(1+np.exp(-(np.dot(teta[j*img_size:(j+1)*img_size].transpose(),i)+teta[(len(imgs_f))*img_size+j]))))*(i[j]/2+0.5)+(1-np.log(1/(1+np.exp(-(np.dot(teta[j*img_size:(j+1)*img_size].transpose(),i)+teta[(len(imgs_f))*img_size+j])))))*(-i[j]/2+0.5) \n",
    "        return SUM\n",
    "          \n",
    "        \n",
    "    #######################################################################\n",
    "    #######################################################################\n",
    "    x0 = np.ones((1024*1025,1))#np.concatenate((np.ones((1024*1024,1)),np.zeros((1024,1))),axis = 0)\n",
    "    d_teta=grad(log_PL,0)\n",
    "    num_iter = 5\n",
    "    alpha = 1000\n",
    "    for i in range(num_iter):\n",
    "        dx = d_teta(x0)\n",
    "        print(np.sum(dx>0.01))\n",
    "        x0 += dx*alpha\n",
    "        print(x0)\n",
    "    \n",
    "    \n",
    "    return x0[:img_size*img_size].reshape((img_size,img_size)), x0[img_size*img_size:].transpose()#weights, bias"
   ]
  },
  {
   "cell_type": "code",
   "execution_count": 82,
   "metadata": {},
   "outputs": [
    {
     "name": "stdout",
     "output_type": "stream",
     "text": [
      "0\n",
      "[[1.]\n",
      " [1.]\n",
      " [1.]\n",
      " ...\n",
      " [1.]\n",
      " [1.]\n",
      " [1.]]\n",
      "0\n",
      "[[1.]\n",
      " [1.]\n",
      " [1.]\n",
      " ...\n",
      " [1.]\n",
      " [1.]\n",
      " [1.]]\n",
      "0\n",
      "[[1.]\n",
      " [1.]\n",
      " [1.]\n",
      " ...\n",
      " [1.]\n",
      " [1.]\n",
      " [1.]]\n",
      "0\n",
      "[[1.]\n",
      " [1.]\n",
      " [1.]\n",
      " ...\n",
      " [1.]\n",
      " [1.]\n",
      " [1.]]\n",
      "0\n",
      "[[1.]\n",
      " [1.]\n",
      " [1.]\n",
      " ...\n",
      " [1.]\n",
      " [1.]\n",
      " [1.]]\n",
      "(1024, 1024) (1, 1024)\n"
     ]
    }
   ],
   "source": [
    "# Recover 2 -- Hebbian\n",
    "Wh, bh = learn_maxpl(imgs)\n",
    "print(Wh.shape,bh.shape)\n",
    "rimgs_h = recover(cimgs, Wh, bh)\n"
   ]
  },
  {
   "cell_type": "code",
   "execution_count": 66,
   "metadata": {},
   "outputs": [
    {
     "data": {
      "image/png": "[encoded data removed]",
      "text/plain": [
       "<Figure size 432x288 with 1 Axes>"
      ]
     },
     "metadata": {
      "needs_background": "light"
     },
     "output_type": "display_data"
    },
    {
     "data": {
      "image/png": "[encoded data removed]",
      "text/plain": [
       "<Figure size 432x288 with 1 Axes>"
      ]
     },
     "metadata": {
      "needs_background": "light"
     },
     "output_type": "display_data"
    },
    {
     "data": {
      "image/png": "[encoded data removed]",
      "text/plain": [
       "<Figure size 432x288 with 1 Axes>"
      ]
     },
     "metadata": {
      "needs_background": "light"
     },
     "output_type": "display_data"
    },
    {
     "data": {
      "image/png": "[encoded data removed]",
      "text/plain": [
       "<Figure size 432x288 with 1 Axes>"
      ]
     },
     "metadata": {
      "needs_background": "light"
     },
     "output_type": "display_data"
    },
    {
     "data": {
      "image/png": "[encoded data removed]",
      "text/plain": [
       "<Figure size 432x288 with 1 Axes>"
      ]
     },
     "metadata": {
      "needs_background": "light"
     },
     "output_type": "display_data"
    },
    {
     "data": {
      "image/png": "[encoded data removed]",
      "text/plain": [
       "<Figure size 432x288 with 1 Axes>"
      ]
     },
     "metadata": {
      "needs_background": "light"
     },
     "output_type": "display_data"
    },
    {
     "data": {
      "image/png": "[encoded data removed]",
      "text/plain": [
       "<Figure size 432x288 with 1 Axes>"
      ]
     },
     "metadata": {
      "needs_background": "light"
     },
     "output_type": "display_data"
    },
    {
     "data": {
      "image/png": "[encoded data removed]",
      "text/plain": [
       "<Figure size 432x288 with 1 Axes>"
      ]
     },
     "metadata": {
      "needs_background": "light"
     },
     "output_type": "display_data"
    }
   ],
   "source": [
    "# Load Images and Binarize\n",
    "ifiles = sorted(glob.glob('images/*'))\n",
    "timgs = [load_image(ifile) for ifile in ifiles]\n",
    "imgs = np.asarray([binarize_image(img) for img in timgs])\n",
    "# Add corruption\n",
    "cimgs = []\n",
    "for i, img in enumerate(imgs):\n",
    "    cimgs.append(add_corruption(np.copy(imgs[i])))\n",
    "cimgs = np.asarray(cimgs)\n",
    "\n",
    "for i in imgs:\n",
    "    plt.imshow(i, cmap='gray')\n",
    "    plt.show()\n",
    "\n",
    "for i in cimgs:\n",
    "    plt.imshow(i.reshape((32,32)), cmap='gray')\n",
    "    plt.show()"
   ]
  },
  {
   "cell_type": "code",
   "execution_count": 67,
   "metadata": {},
   "outputs": [
    {
     "data": {
      "image/png": "[encoded data removed]",
      "text/plain": [
       "<Figure size 432x288 with 1 Axes>"
      ]
     },
     "metadata": {
      "needs_background": "light"
     },
     "output_type": "display_data"
    },
    {
     "data": {
      "image/png": "[encoded data removed]",
      "text/plain": [
       "<Figure size 432x288 with 1 Axes>"
      ]
     },
     "metadata": {
      "needs_background": "light"
     },
     "output_type": "display_data"
    },
    {
     "data": {
      "image/png": "[encoded data removed]",
      "text/plain": [
       "<Figure size 432x288 with 1 Axes>"
      ]
     },
     "metadata": {
      "needs_background": "light"
     },
     "output_type": "display_data"
    },
    {
     "data": {
      "image/png": "[encoded data removed]",
      "text/plain": [
       "<Figure size 432x288 with 1 Axes>"
      ]
     },
     "metadata": {
      "needs_background": "light"
     },
     "output_type": "display_data"
    },
    {
     "data": {
      "image/png": "[encoded data removed]",
      "text/plain": [
       "<Figure size 432x288 with 1 Axes>"
      ]
     },
     "metadata": {
      "needs_background": "light"
     },
     "output_type": "display_data"
    },
    {
     "data": {
      "image/png": "[encoded data removed]",
      "text/plain": [
       "<Figure size 432x288 with 1 Axes>"
      ]
     },
     "metadata": {
      "needs_background": "light"
     },
     "output_type": "display_data"
    },
    {
     "data": {
      "image/png": "[encoded data removed]",
      "text/plain": [
       "<Figure size 432x288 with 1 Axes>"
      ]
     },
     "metadata": {
      "needs_background": "light"
     },
     "output_type": "display_data"
    },
    {
     "data": {
      "image/png": "[encoded data removed]",
      "text/plain": [
       "<Figure size 432x288 with 1 Axes>"
      ]
     },
     "metadata": {
      "needs_background": "light"
     },
     "output_type": "display_data"
    }
   ],
   "source": [
    "# Recover 1 -- Hebbian\n",
    "Wh, bh = learn_hebbian(imgs)\n",
    "rimgs_h = recover(cimgs, Wh, bh)\n",
    "np.save('hebbian.npy', rimgs_h)\n",
    "\n",
    "import matplotlib.pyplot as plt\n",
    "from IPython.display import display\n",
    "\n",
    "\n",
    "for i in cimgs:\n",
    "    plt.imshow(i.reshape((32,32)), cmap='gray')\n",
    "    plt.show()\n",
    "\n",
    "for i in rimgs_h:\n",
    "    plt.imshow(i.reshape((32,32)), cmap='gray')\n",
    "    plt.show()"
   ]
  },
  {
   "cell_type": "code",
   "execution_count": 68,
   "metadata": {},
   "outputs": [
    {
     "name": "stdout",
     "output_type": "stream",
     "text": [
      "0\n",
      "[[1.]\n",
      " [1.]\n",
      " [1.]\n",
      " ...\n",
      " [1.]\n",
      " [1.]\n",
      " [1.]]\n",
      "0\n",
      "[[1.]\n",
      " [1.]\n",
      " [1.]\n",
      " ...\n",
      " [1.]\n",
      " [1.]\n",
      " [1.]]\n",
      "0\n",
      "[[1.]\n",
      " [1.]\n",
      " [1.]\n",
      " ...\n",
      " [1.]\n",
      " [1.]\n",
      " [1.]]\n",
      "0\n",
      "[[1.]\n",
      " [1.]\n",
      " [1.]\n",
      " ...\n",
      " [1.]\n",
      " [1.]\n",
      " [1.]]\n",
      "0\n",
      "[[1.]\n",
      " [1.]\n",
      " [1.]\n",
      " ...\n",
      " [1.]\n",
      " [1.]\n",
      " [1.]]\n"
     ]
    },
    {
     "data": {
      "image/png": "[encoded data removed]",
      "text/plain": [
       "<Figure size 432x288 with 1 Axes>"
      ]
     },
     "metadata": {
      "needs_background": "light"
     },
     "output_type": "display_data"
    },
    {
     "data": {
      "image/png": "[encoded data removed]",
      "text/plain": [
       "<Figure size 432x288 with 1 Axes>"
      ]
     },
     "metadata": {
      "needs_background": "light"
     },
     "output_type": "display_data"
    },
    {
     "data": {
      "image/png": "[encoded data removed]",
      "text/plain": [
       "<Figure size 432x288 with 1 Axes>"
      ]
     },
     "metadata": {
      "needs_background": "light"
     },
     "output_type": "display_data"
    },
    {
     "data": {
      "image/png": "[encoded data removed]",
      "text/plain": [
       "<Figure size 432x288 with 1 Axes>"
      ]
     },
     "metadata": {
      "needs_background": "light"
     },
     "output_type": "display_data"
    },
    {
     "data": {
      "image/png": "[encoded data removed]",
      "text/plain": [
       "<Figure size 432x288 with 1 Axes>"
      ]
     },
     "metadata": {
      "needs_background": "light"
     },
     "output_type": "display_data"
    },
    {
     "data": {
      "image/png": "[encoded data removed]",
      "text/plain": [
       "<Figure size 432x288 with 1 Axes>"
      ]
     },
     "metadata": {
      "needs_background": "light"
     },
     "output_type": "display_data"
    },
    {
     "data": {
      "image/png": "[encoded data removed]",
      "text/plain": [
       "<Figure size 432x288 with 1 Axes>"
      ]
     },
     "metadata": {
      "needs_background": "light"
     },
     "output_type": "display_data"
    },
    {
     "data": {
      "image/png": "[encoded data removed]",
      "text/plain": [
       "<Figure size 432x288 with 1 Axes>"
      ]
     },
     "metadata": {
      "needs_background": "light"
     },
     "output_type": "display_data"
    }
   ],
   "source": [
    "# Recover 2 -- Hebbian\n",
    "Wh, bh = learn_maxpl(imgs)\n",
    "rimgs_h = recover(cimgs, Wh, bh)\n",
    "np.save('hebbian.npy', rimgs_h)\n",
    "\n",
    "import matplotlib.pyplot as plt\n",
    "from IPython.display import display\n",
    "\n",
    "\n",
    "for i in cimgs:\n",
    "    plt.imshow(i.reshape((32,32)), cmap='gray')\n",
    "    plt.show()\n",
    "\n",
    "for i in rimgs_h:\n",
    "    plt.imshow(i.reshape((32,32)), cmap='gray')\n",
    "    plt.show()"
   ]
  },
  {
   "cell_type": "code",
   "execution_count": 78,
   "metadata": {},
   "outputs": [
    {
     "data": {
      "text/plain": [
       "array([-12712.])"
      ]
     },
     "execution_count": 78,
     "metadata": {},
     "output_type": "execute_result"
    }
   ],
   "source": [
    "def log_PL(teta):\n",
    "        SUM=0\n",
    "        ifiles = sorted(glob.glob('images/*'))\n",
    "        timgs = [load_image(ifile) for ifile in ifiles]\n",
    "        imgs = np.asarray([binarize_image(img) for img in timgs])\n",
    "        img_size = np.prod(imgs[0].shape)\n",
    "        imgs_f = imgs.reshape((len(imgs),img_size))\n",
    "        for i in imgs_f:\n",
    "            for j in range(len(i)):\n",
    "                SUM=SUM+np.log(1/(1+np.exp(-(np.dot(teta[j*img_size:(j+1)*img_size].transpose(),i)+teta[(len(imgs_f))*img_size+j]))))*(i[j]/2+0.5)+(1-np.log(1/(1+np.exp(-(np.dot(teta[j*img_size:(j+1)*img_size].transpose(),i)+teta[(len(imgs_f))*img_size+j])))))*(-i[j]/2+0.5) \n",
    "        return SUM\n",
    "    \n",
    "teta = np.ones((1024*1025,1))\n",
    "log_PL(teta)"
   ]
  },
  {
   "cell_type": "code",
   "execution_count": 79,
   "metadata": {},
   "outputs": [],
   "source": [
    "d_teta=grad(log_PL)"
   ]
  },
  {
   "cell_type": "code",
   "execution_count": 80,
   "metadata": {},
   "outputs": [
    {
     "name": "stdout",
     "output_type": "stream",
     "text": [
      "[[-4.]\n",
      " [-4.]\n",
      " [-4.]\n",
      " ...\n",
      " [ 0.]\n",
      " [ 0.]\n",
      " [ 0.]]\n"
     ]
    }
   ],
   "source": [
    "import numpy\n",
    "teta = np.random.rand(1024*1025,1)\n",
    "print(d_teta(teta))"
   ]
  },
  {
   "cell_type": "code",
   "execution_count": null,
   "metadata": {},
   "outputs": [],
   "source": []
  }
 ],
 "metadata": {
  "kernelspec": {
   "display_name": "Python 3",
   "language": "python",
   "name": "python3"
  },
  "language_info": {
   "codemirror_mode": {
    "name": "ipython",
    "version": 3
   },
   "file_extension": ".py",
   "mimetype": "text/x-python",
   "name": "python",
   "nbconvert_exporter": "python",
   "pygments_lexer": "ipython3",
   "version": "3.7.1"
  }
 },
 "nbformat": 4,
 "nbformat_minor": 2
}
